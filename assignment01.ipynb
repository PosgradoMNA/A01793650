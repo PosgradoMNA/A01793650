{
  "nbformat": 4,
  "nbformat_minor": 0,
  "metadata": {
    "colab": {
      "name": "assignment01.ipynb",
      "provenance": [],
      "include_colab_link": true
    },
    "kernelspec": {
      "name": "python3",
      "display_name": "Python 3"
    },
    "language_info": {
      "name": "python"
    }
  },
  "cells": [
    {
      "cell_type": "markdown",
      "metadata": {
        "id": "view-in-github",
        "colab_type": "text"
      },
      "source": [
        "<a href=\"https://colab.research.google.com/github/PosgradoMNA/A01793650/blob/main/assignment01.ipynb\" target=\"_parent\"><img src=\"https://colab.research.google.com/assets/colab-badge.svg\" alt=\"Open In Colab\"/></a>"
      ]
    },
    {
      "cell_type": "code",
      "execution_count": null,
      "metadata": {
        "id": "LzUSMM79NR9P",
        "outputId": "0e6cb421-1096-426a-b31a-f61d059def81",
        "colab": {
          "base_uri": "https://localhost:8080/"
        }
      },
      "outputs": [
        {
          "output_type": "stream",
          "name": "stdout",
          "text": [
            "assignment01 for GitJobish03 and edited in git, and 18\n"
          ]
        }
      ],
      "source": [
        "print('assignment01 for GitJobish03 and edited in git, and 18')"
      ]
    },
    {
      "cell_type": "markdown",
      "source": [
        "**MODULO 1**"
      ],
      "metadata": {
        "id": "Ki8FNDVpTrxN"
      }
    },
    {
      "cell_type": "markdown",
      "source": [
        "find the result of executing print(\"Hello\\nWorld!\") statement."
      ],
      "metadata": {
        "id": "TcoWGobDPWOC"
      }
    },
    {
      "cell_type": "code",
      "source": [
        "print(\"Hello\\nWorld!\")"
      ],
      "metadata": {
        "id": "mxM_WppZPMFx",
        "colab": {
          "base_uri": "https://localhost:8080/"
        },
        "outputId": "27894e1d-ab6a-4d3e-e703-aa4e710decd9"
      },
      "execution_count": null,
      "outputs": [
        {
          "output_type": "stream",
          "name": "stdout",
          "text": [
            "Hello\n",
            "World!\n"
          ]
        }
      ]
    },
    {
      "cell_type": "markdown",
      "source": [
        "What is the output of executing the following statement: # print('Hello World!')?"
      ],
      "metadata": {
        "id": "w44sSkO_RpxI"
      }
    },
    {
      "cell_type": "code",
      "source": [
        "# print('Hello World!')"
      ],
      "metadata": {
        "id": "wzyVflgORwMV"
      },
      "execution_count": 1,
      "outputs": []
    },
    {
      "cell_type": "markdown",
      "source": [
        "What is the type of the following: int(1.0)?"
      ],
      "metadata": {
        "id": "ZYXO6gEUR59C"
      }
    },
    {
      "cell_type": "code",
      "source": [
        "int(1.0)"
      ],
      "metadata": {
        "colab": {
          "base_uri": "https://localhost:8080/"
        },
        "id": "2VL8o7JdR9Y5",
        "outputId": "8d7b88a1-0add-4b39-de7a-c2759218c595"
      },
      "execution_count": 2,
      "outputs": [
        {
          "output_type": "execute_result",
          "data": {
            "text/plain": [
              "1"
            ]
          },
          "metadata": {},
          "execution_count": 2
        }
      ]
    },
    {
      "cell_type": "markdown",
      "source": [
        "Es un número entero"
      ],
      "metadata": {
        "id": "bVkjkFi0SBeI"
      }
    },
    {
      "cell_type": "markdown",
      "source": [
        "Enter the code to convert the number 1 to a Boolean."
      ],
      "metadata": {
        "id": "GwYWrsMMSDsA"
      }
    },
    {
      "cell_type": "code",
      "source": [
        "bool(1)"
      ],
      "metadata": {
        "colab": {
          "base_uri": "https://localhost:8080/"
        },
        "id": "LBePq0BcSKQS",
        "outputId": "ed633f02-8c7e-4180-c7af-562c4cdd4dde"
      },
      "execution_count": 3,
      "outputs": [
        {
          "output_type": "execute_result",
          "data": {
            "text/plain": [
              "True"
            ]
          },
          "metadata": {},
          "execution_count": 3
        }
      ]
    },
    {
      "cell_type": "markdown",
      "source": [
        "Consider the following string:\n",
        "\n",
        "Numbers = \"0123456\"\n",
        "How would you obtain the even elements?"
      ],
      "metadata": {
        "id": "opZ8AIUuS1vr"
      }
    },
    {
      "cell_type": "code",
      "source": [
        "Numbers = \"0123456\""
      ],
      "metadata": {
        "id": "fRu9gAznS2pX"
      },
      "execution_count": 5,
      "outputs": []
    },
    {
      "cell_type": "code",
      "source": [
        "Numbers[::2]"
      ],
      "metadata": {
        "colab": {
          "base_uri": "https://localhost:8080/",
          "height": 35
        },
        "id": "_jxFb1CPS8Zo",
        "outputId": "ce94505b-c1fe-43c9-8b6e-4b707436fa99"
      },
      "execution_count": 9,
      "outputs": [
        {
          "output_type": "execute_result",
          "data": {
            "text/plain": [
              "'0246'"
            ],
            "application/vnd.google.colaboratory.intrinsic+json": {
              "type": "string"
            }
          },
          "metadata": {},
          "execution_count": 9
        }
      ]
    },
    {
      "cell_type": "markdown",
      "source": [
        "What is the result of the following line of code:\n",
        "\n",
        "\"0123456\".find('1')"
      ],
      "metadata": {
        "id": "IfhPhlGYTJL-"
      }
    },
    {
      "cell_type": "code",
      "source": [
        "\"0123456\".find('1')"
      ],
      "metadata": {
        "colab": {
          "base_uri": "https://localhost:8080/"
        },
        "id": "EN63fylGS_EJ",
        "outputId": "20b4b9eb-0300-448c-bfe6-d0a78ad25684"
      },
      "execution_count": 10,
      "outputs": [
        {
          "output_type": "execute_result",
          "data": {
            "text/plain": [
              "1"
            ]
          },
          "metadata": {},
          "execution_count": 10
        }
      ]
    },
    {
      "cell_type": "markdown",
      "source": [
        "What is the result of the following operation in Python:\n",
        "\n",
        "3 + 2 * 2"
      ],
      "metadata": {
        "id": "IJoFUF1oTR6T"
      }
    },
    {
      "cell_type": "code",
      "source": [
        "3 + 2 * 2"
      ],
      "metadata": {
        "colab": {
          "base_uri": "https://localhost:8080/"
        },
        "id": "THwaH_7yTThZ",
        "outputId": "3ce9ff1d-5a8a-4499-ff48-e1135f1898fa"
      },
      "execution_count": 11,
      "outputs": [
        {
          "output_type": "execute_result",
          "data": {
            "text/plain": [
              "7"
            ]
          },
          "metadata": {},
          "execution_count": 11
        }
      ]
    },
    {
      "cell_type": "markdown",
      "source": [
        "In Python, if you executed name = 'Lizz', what would be the output of print(name[0:2])?"
      ],
      "metadata": {
        "id": "JGATgoNjTYiA"
      }
    },
    {
      "cell_type": "code",
      "source": [
        "name = 'Lizz'"
      ],
      "metadata": {
        "id": "WXN_Z_xyTZTC"
      },
      "execution_count": 12,
      "outputs": []
    },
    {
      "cell_type": "code",
      "source": [
        "print(name[0:2])"
      ],
      "metadata": {
        "colab": {
          "base_uri": "https://localhost:8080/"
        },
        "id": "D0vt5otxTdg4",
        "outputId": "d53fa699-8887-4da0-cc69-5bff2168149a"
      },
      "execution_count": 13,
      "outputs": [
        {
          "output_type": "stream",
          "name": "stdout",
          "text": [
            "Li\n"
          ]
        }
      ]
    },
    {
      "cell_type": "markdown",
      "source": [
        "In Python, if you executed var = '01234567', what would be the result of print(var[::2])?"
      ],
      "metadata": {
        "id": "ToOvO5ehTiC3"
      }
    },
    {
      "cell_type": "code",
      "source": [
        "var = '01234567'"
      ],
      "metadata": {
        "id": "vFZEwl3BTit8"
      },
      "execution_count": 14,
      "outputs": []
    },
    {
      "cell_type": "code",
      "source": [
        "print(var[::2])"
      ],
      "metadata": {
        "id": "RDETeha7T0-F",
        "outputId": "96503865-cea4-4fad-bd0b-1acc2d97671d",
        "colab": {
          "base_uri": "https://localhost:8080/"
        }
      },
      "execution_count": 15,
      "outputs": [
        {
          "output_type": "stream",
          "name": "stdout",
          "text": [
            "0246\n"
          ]
        }
      ]
    },
    {
      "cell_type": "markdown",
      "source": [
        "In Python, what is the result of the following operation '1'+'2'?"
      ],
      "metadata": {
        "id": "moBN9zOGT6B8"
      }
    },
    {
      "cell_type": "code",
      "source": [
        "'1'+'2'"
      ],
      "metadata": {
        "id": "FG04fS1OT6vi",
        "outputId": "1feb0e65-03a4-4ab6-a1ed-4eab9c5802ba",
        "colab": {
          "base_uri": "https://localhost:8080/",
          "height": 35
        }
      },
      "execution_count": 16,
      "outputs": [
        {
          "output_type": "execute_result",
          "data": {
            "text/plain": [
              "'12'"
            ],
            "application/vnd.google.colaboratory.intrinsic+json": {
              "type": "string"
            }
          },
          "metadata": {},
          "execution_count": 16
        }
      ]
    },
    {
      "cell_type": "markdown",
      "source": [
        "Given myvar = 'hello', how would you convert myvar into uppercase?"
      ],
      "metadata": {
        "id": "cVfT18sWUASW"
      }
    },
    {
      "cell_type": "code",
      "source": [
        "myvar = 'hello'"
      ],
      "metadata": {
        "id": "zf5pPhtZUBtZ"
      },
      "execution_count": 17,
      "outputs": []
    },
    {
      "cell_type": "code",
      "source": [
        "myvar.upper()"
      ],
      "metadata": {
        "id": "uEi7CU0IUE4o",
        "outputId": "f482b814-e4fa-434f-ac51-99785193de51",
        "colab": {
          "base_uri": "https://localhost:8080/",
          "height": 35
        }
      },
      "execution_count": 18,
      "outputs": [
        {
          "output_type": "execute_result",
          "data": {
            "text/plain": [
              "'HELLO'"
            ],
            "application/vnd.google.colaboratory.intrinsic+json": {
              "type": "string"
            }
          },
          "metadata": {},
          "execution_count": 18
        }
      ]
    },
    {
      "cell_type": "markdown",
      "source": [
        "**MODULO 2**"
      ],
      "metadata": {
        "id": "Qq7gFNKmUTa9"
      }
    },
    {
      "cell_type": "markdown",
      "source": [
        "How do you access the last element of the following tuple: A=(0,1,2,3)?"
      ],
      "metadata": {
        "id": "rT97Z5nPUXKW"
      }
    },
    {
      "cell_type": "code",
      "source": [
        "A=(0,1,2,3)"
      ],
      "metadata": {
        "id": "zpB7aXh-U5NQ"
      },
      "execution_count": 19,
      "outputs": []
    },
    {
      "cell_type": "code",
      "source": [
        "A[3]"
      ],
      "metadata": {
        "id": "ejQQh1MPU-SE",
        "outputId": "e6f8ca0a-fe12-4e0e-e5f4-fe27ad268198",
        "colab": {
          "base_uri": "https://localhost:8080/"
        }
      },
      "execution_count": 21,
      "outputs": [
        {
          "output_type": "execute_result",
          "data": {
            "text/plain": [
              "3"
            ]
          },
          "metadata": {},
          "execution_count": 21
        }
      ]
    },
    {
      "cell_type": "code",
      "source": [
        "A[-1]"
      ],
      "metadata": {
        "id": "z8NRCP8uVIMI",
        "outputId": "ac69ce9f-8659-43f7-a6f5-1d45c1b9f404",
        "colab": {
          "base_uri": "https://localhost:8080/"
        }
      },
      "execution_count": 22,
      "outputs": [
        {
          "output_type": "execute_result",
          "data": {
            "text/plain": [
              "3"
            ]
          },
          "metadata": {},
          "execution_count": 22
        }
      ]
    },
    {
      "cell_type": "markdown",
      "source": [
        "Consider the list: B=[\"a\",\"b\",\"c\"].\n",
        "\n",
        "What is the result of the following B[1:]"
      ],
      "metadata": {
        "id": "GkVt-xx_VM6V"
      }
    },
    {
      "cell_type": "code",
      "source": [
        "B=[\"a\",\"b\",\"c\"]"
      ],
      "metadata": {
        "id": "ZlM_U-pGVN71"
      },
      "execution_count": 23,
      "outputs": []
    },
    {
      "cell_type": "code",
      "source": [
        "B[1:]"
      ],
      "metadata": {
        "id": "oF6S7j5aVSd8",
        "outputId": "6270c459-43f6-46bf-de60-6396236cef1e",
        "colab": {
          "base_uri": "https://localhost:8080/"
        }
      },
      "execution_count": 24,
      "outputs": [
        {
          "output_type": "execute_result",
          "data": {
            "text/plain": [
              "['b', 'c']"
            ]
          },
          "metadata": {},
          "execution_count": 24
        }
      ]
    },
    {
      "cell_type": "markdown",
      "source": [
        "What is the result of the following lines of code:\n",
        "\n",
        "S={'A','B','C'}\n",
        "\n",
        "U={'A','Z','C'}\n",
        "\n",
        "U.union(S)"
      ],
      "metadata": {
        "id": "cdQ6zbmfVaV4"
      }
    },
    {
      "cell_type": "code",
      "source": [
        "S={'A','B','C'}\n",
        "\n",
        "U={'A','Z','C'}\n",
        "\n",
        "U.union(S)"
      ],
      "metadata": {
        "id": "9ytPYaSHVbpD",
        "outputId": "4709e7b7-b014-4c23-d358-5a2d091179f8",
        "colab": {
          "base_uri": "https://localhost:8080/"
        }
      },
      "execution_count": 25,
      "outputs": [
        {
          "output_type": "execute_result",
          "data": {
            "text/plain": [
              "{'A', 'B', 'C', 'Z'}"
            ]
          },
          "metadata": {},
          "execution_count": 25
        }
      ]
    },
    {
      "cell_type": "markdown",
      "source": [
        "What is the intersection of set S and U?\n",
        "\n",
        "S={'A','B','C'}\n",
        "\n",
        "U={'A','Z','C'}"
      ],
      "metadata": {
        "id": "A4gRwKoHVhVU"
      }
    },
    {
      "cell_type": "code",
      "source": [
        "S={'A','B','C'}\n",
        "U={'A','Z','C'}\n",
        "S.intersection(U)"
      ],
      "metadata": {
        "id": "ZqfeIwyGViEr",
        "outputId": "16f275cd-497b-4ae7-cd5d-4791b7016d9f",
        "colab": {
          "base_uri": "https://localhost:8080/"
        }
      },
      "execution_count": 29,
      "outputs": [
        {
          "output_type": "execute_result",
          "data": {
            "text/plain": [
              "{'A', 'C'}"
            ]
          },
          "metadata": {},
          "execution_count": 29
        }
      ]
    },
    {
      "cell_type": "markdown",
      "source": [
        "Consider the following dictionary:\n",
        "\n",
        "D = {'a':0,'b':1,'c':2}\n",
        "\n",
        "What is the result of the following: D.values()?"
      ],
      "metadata": {
        "id": "rR0iAhrzV9QM"
      }
    },
    {
      "cell_type": "code",
      "source": [
        "D = {'a':0,'b':1,'c':2}\n",
        "D.values()"
      ],
      "metadata": {
        "id": "TMxRC36cV6nn",
        "outputId": "13c5a0b6-3b15-4ce2-d943-c93dd8f5a936",
        "colab": {
          "base_uri": "https://localhost:8080/"
        }
      },
      "execution_count": 31,
      "outputs": [
        {
          "output_type": "execute_result",
          "data": {
            "text/plain": [
              "dict_values([0, 1, 2])"
            ]
          },
          "metadata": {},
          "execution_count": 31
        }
      ]
    },
    {
      "cell_type": "markdown",
      "source": [
        "Consider the following dictionary:\n",
        "\n",
        "D = {'a':0,'b':1,'c':2}\n",
        "What is the output of the following D['b']?"
      ],
      "metadata": {
        "id": "g54CS0HyWIw9"
      }
    },
    {
      "cell_type": "code",
      "source": [
        "D = {'a':0,'b':1,'c':2}\n",
        "D['b']"
      ],
      "metadata": {
        "id": "6dJCl3fQWLIM",
        "outputId": "65e0b57d-b6cd-422e-9332-e4c8bb0b8f57",
        "colab": {
          "base_uri": "https://localhost:8080/"
        }
      },
      "execution_count": 32,
      "outputs": [
        {
          "output_type": "execute_result",
          "data": {
            "text/plain": [
              "1"
            ]
          },
          "metadata": {},
          "execution_count": 32
        }
      ]
    },
    {
      "cell_type": "markdown",
      "source": [
        "What is the syntax used to obtain the first element of the tuple:\n",
        "\n",
        "A = ('a','b','c')"
      ],
      "metadata": {
        "id": "x_6ihOmcWeBE"
      }
    },
    {
      "cell_type": "code",
      "source": [
        "A = ('a','b','c')\n",
        "A[0]"
      ],
      "metadata": {
        "id": "Hz_4-2UqWkNB",
        "outputId": "dcbeec1a-8627-472d-e27a-e565b87f0ad9",
        "colab": {
          "base_uri": "https://localhost:8080/",
          "height": 35
        }
      },
      "execution_count": 33,
      "outputs": [
        {
          "output_type": "execute_result",
          "data": {
            "text/plain": [
              "'a'"
            ],
            "application/vnd.google.colaboratory.intrinsic+json": {
              "type": "string"
            }
          },
          "metadata": {},
          "execution_count": 33
        }
      ]
    },
    {
      "cell_type": "markdown",
      "source": [
        "How many duplicate elements can you have in a set?"
      ],
      "metadata": {
        "id": "PYIkf49TWqq6"
      }
    },
    {
      "cell_type": "markdown",
      "source": [
        "0. You can only have one unique element in a set."
      ],
      "metadata": {
        "id": "BGjxmeYnW-MS"
      }
    },
    {
      "cell_type": "markdown",
      "source": [
        "Consider the following Python dictionary:\n",
        "\n",
        "Dict={\"A\":1,\"B\":\"2\",\"C\":[3,3,3],\"D\":(4,4,4),'E':5,'F':6}\n",
        "\n",
        "What is the result of the following operation: Dict[\"D\"]?"
      ],
      "metadata": {
        "id": "OLBF_ZvYW_7m"
      }
    },
    {
      "cell_type": "code",
      "source": [
        "Dict={\"A\":1,\"B\":\"2\",\"C\":[3,3,3],\"D\":(4,4,4),'E':5,'F':6}\n",
        "Dict[\"D\"]"
      ],
      "metadata": {
        "id": "ny1lBucjXDBn",
        "outputId": "45377331-9f42-4501-908d-7bf70d0dac62",
        "colab": {
          "base_uri": "https://localhost:8080/"
        }
      },
      "execution_count": 34,
      "outputs": [
        {
          "output_type": "execute_result",
          "data": {
            "text/plain": [
              "(4, 4, 4)"
            ]
          },
          "metadata": {},
          "execution_count": 34
        }
      ]
    },
    {
      "cell_type": "markdown",
      "source": [
        "What is an important difference between lists and tuples?\n"
      ],
      "metadata": {
        "id": "ajOCB0SAXSb5"
      }
    },
    {
      "cell_type": "markdown",
      "source": [
        "Lists are mutable, tuples are not."
      ],
      "metadata": {
        "id": "S9-yb2N2XUMX"
      }
    },
    {
      "cell_type": "markdown",
      "source": [],
      "metadata": {
        "id": "qMo_4n5rXWcZ"
      }
    }
  ]
}